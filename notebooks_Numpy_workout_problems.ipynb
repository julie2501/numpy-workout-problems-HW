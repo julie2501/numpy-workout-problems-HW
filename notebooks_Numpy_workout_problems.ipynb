{
  "metadata": {
    "widgets": {
      "application/vnd.jupyter.widget-state+json": {
        "version_major": 2,
        "version_minor": 0,
        "state": {}
      }
    },
    "kernelspec": {
      "name": "python",
      "display_name": "Python (Pyodide)",
      "language": "python"
    },
    "language_info": {
      "codemirror_mode": {
        "name": "python",
        "version": 3
      },
      "file_extension": ".py",
      "mimetype": "text/x-python",
      "name": "python",
      "nbconvert_exporter": "python",
      "pygments_lexer": "ipython3",
      "version": "3.8"
    }
  },
  "nbformat_minor": 5,
  "nbformat": 4,
  "cells": [
    {
      "cell_type": "code",
      "source": "import numpy as np\none_dim = np.array([1,2,3,4])\nprint(one_dim)",
      "metadata": {
        "trusted": true
      },
      "execution_count": null,
      "outputs": [],
      "id": "42a9702b-dd77-4ec2-855e-81d81bae1843"
    },
    {
      "cell_type": "code",
      "source": "print(type(one_dim))",
      "metadata": {
        "trusted": true
      },
      "execution_count": null,
      "outputs": [],
      "id": "a8400b22-e707-4bdf-8130-367ee8b3fd55"
    },
    {
      "cell_type": "code",
      "source": "print(dir(one_dim))",
      "metadata": {
        "trusted": true
      },
      "execution_count": null,
      "outputs": [],
      "id": "2776cfc7-e6a1-4b88-b9e1-0e6a8c462da4"
    },
    {
      "cell_type": "code",
      "source": "print(\"numpy version in 2023: \",np.__version__)",
      "metadata": {
        "trusted": true
      },
      "execution_count": null,
      "outputs": [],
      "id": "30bff3dd-fab9-413e-a9d3-e058fa9b9711"
    },
    {
      "cell_type": "code",
      "source": "one = np.array((1,2,3,4,5,6,7,8))\nprint(one)\nprint(type(one))",
      "metadata": {
        "trusted": true
      },
      "execution_count": null,
      "outputs": [],
      "id": "70a05395-0859-4e0d-8075-7ca1f7835cc0"
    },
    {
      "cell_type": "code",
      "source": "# 0--dimension\nzero = np.array(25)\nprint(zero)",
      "metadata": {
        "trusted": true
      },
      "execution_count": null,
      "outputs": [],
      "id": "85c01c3b-c90a-4a83-8414-7694be35fefb"
    },
    {
      "cell_type": "code",
      "source": "#2 dimension\nprint(\"trying to print list\")\nsec = np.array([[11,22,43,14,5],[62,17,338,59,120]])\nprint(sec)\nprint(\"printing tuple: \", end = \"\")\nsec_1 = np.array(((1,2,3,4,5),(6,7,8,9,0)))\nprint(sec_1)",
      "metadata": {
        "trusted": true
      },
      "execution_count": null,
      "outputs": [],
      "id": "20a04bae-b6d3-477d-9605-7a8b1f9565e4"
    },
    {
      "cell_type": "code",
      "source": "#3 dimension\nprint(\"trying to print list\")\nthird = np.array([[[1,2,3,4,5],[6,7,8,9,10], [11,12,13,14,15]]])\nprint(third)\nprint(\"printing tuple: \", end = \"\")\nthree = np.array((((1,2,3,4,5),(6,7,8,9,10),(11,12,13,14,15))))\nprint(three)\nprint(type(third))",
      "metadata": {
        "trusted": true
      },
      "execution_count": null,
      "outputs": [],
      "id": "f7e69305-2ea5-4a4d-9fbb-1ac522e7acbb"
    },
    {
      "cell_type": "code",
      "source": "print(third.ndim)\nprint(three.ndim)\nprint(one_dim.ndim)\nprint(zero.ndim)\nprint(sec.ndim)\nprint(sec_1.ndim)",
      "metadata": {
        "trusted": true
      },
      "execution_count": null,
      "outputs": [],
      "id": "48529a43-76e0-4aaf-9b3a-04d42d118f48"
    },
    {
      "cell_type": "code",
      "source": "new_list = np.array([1,2,3,4,5],ndmin = 5)\nprint(new_list)\nprint(new_list.ndim)",
      "metadata": {
        "trusted": true
      },
      "execution_count": null,
      "outputs": [],
      "id": "d8a5cfc1-dcfb-4f3e-9e71-c3b8030a8c77"
    },
    {
      "cell_type": "code",
      "source": "print(\"idexing\")\nprint(one_dim[0])\nprint(\"_________________________________\")\nprint(\"2d\")\nprint(sec[0][1])\nprint(\"2nd method for indexing in 2d\")\nprint(sec[1,1])\nprint(sec[0])\nprint(sec[1])\nprint(\"negative indexing\")\nprint(sec[0,-3])\nprint(\"_________________________________\")\nprint(third)\nprint(\"printing 3rd dimension indexing:\")\nprint(third[0])\nprint(\"_________________________________\")\nprint(third[0][1])\nprint(\"_________________________________\")\nprint(third[0][0])\nprint(\"_________________________________\")\nprint(third[0][2])\nprint(\"_________________________________\")\nprint(third[0][1][4])\nprint(\"_________________________________\")\nprint(third[0][2][3])\nprint(\"_________________________________\")\nprint(\"2nd method for indexing in 3d\")\nprint(third[0,2,3])\nprint(\"negative indexing\")\nprint(third[0,1,-1])\nprint(third[0,2,-4])",
      "metadata": {
        "trusted": true
      },
      "execution_count": null,
      "outputs": [],
      "id": "b38b854e-0fb9-4a5e-a259-962a40541bc0"
    },
    {
      "cell_type": "code",
      "source": "#JUST FOR PRACTISING\nb = np.array([1,2,3,4,6789], ndmin = 4)\nprint(b)\nprint(b.ndim)",
      "metadata": {
        "trusted": true
      },
      "execution_count": null,
      "outputs": [],
      "id": "9485b291-a913-4325-aca4-49202d4a8283"
    },
    {
      "cell_type": "code",
      "source": "print(\"sorting\")\nprint(\"1d sorting\")\nv = np.array([32,67,1,5,23,90])\nw = np.array([[5,89,23,0,11],[26,11,99,56,83]])\ny = np.array([[[12,56,34,23],[90,89,73,100],[87,2,56,3]]])\nx = np.sort(v)\nprint(x)\nprint(np.sort(v))\nprint(\"2d sort\")\nprint(np.sort(w))\nprint(\"3d sort\")\nprint(np.sort(y))\nprint(\"________________________________\")\nboo = np.array([True,False, True, False])\nprint(np.sort(boo))",
      "metadata": {
        "trusted": true
      },
      "execution_count": null,
      "outputs": [],
      "id": "20a5b265-a666-4515-aabb-451a5578b1bc"
    },
    {
      "cell_type": "code",
      "source": "#Just for practising\nfor i in v:\n    print(i)\n    if i == 90:\n        continue\n        print(\"stop\")\n    else:\n        continue\n        ",
      "metadata": {
        "trusted": true
      },
      "execution_count": null,
      "outputs": [],
      "id": "fa3657cd-5079-4ba4-86ee-2987561ac0f7"
    },
    {
      "cell_type": "code",
      "source": "print(\"filter\")\nvalue = np.array([23,4,5,6,43])\nboo1 = np.array([True,False, True, True, False])\nprint(value[boo1]) #filter",
      "metadata": {
        "trusted": true
      },
      "execution_count": null,
      "outputs": [],
      "id": "ac60c2fc-12ba-4dd6-a2b4-7971315751da"
    },
    {
      "cell_type": "code",
      "source": "new_arr = []\nfor i in value:\n    if i >20:\n        new_arr.append(True)\n    else:\n        new_arr.append(False)\nprint(new_arr)",
      "metadata": {
        "trusted": true
      },
      "execution_count": null,
      "outputs": [],
      "id": "8b346c41-d682-4268-8ea0-284ad31a0b6d"
    },
    {
      "cell_type": "code",
      "source": "#Random no generater\nprint(\"random no generator\")\nfrom numpy import random\nc = random.randint(100,size = (3))\nprint(\"________________________________\")\nj = random.randint(25, size = 2)\nprint(j)\nprint(\"________________________________\")\nd = random.randint([1,2,3,4])\ne = random.rand()\nprint(e)\nprint(\"________________________________\")\nprint(d)\nprint(\"________________________________\")\nprint(c)\nprint(\"________________________________\")\na = random.randint(120, size = (2,3))\nprint(a)\nprint(\"________________________________\")\nb = random.rand(2,3)\nprint(b)\nprint(\"________________________________\")\nr = random.choice([1,6,7,0,4,5342,56])\nprint(r)\nprint(\"________________________________\")\nprint(\"________________________________\")\nr = random.choice([1,6,7,0,4,5342,56], size = (3,5))\nprint(r)\n",
      "metadata": {
        "trusted": true
      },
      "execution_count": null,
      "outputs": [],
      "id": "b19afae4-35a6-4d24-b7af-d4570f0e42c8"
    },
    {
      "cell_type": "code",
      "source": "print(\"data distribution\")\np = random.choice([2,7,8,9], p = [0.1,0.3,0.3,0.3], size= 29)\nq = random.choice([2,7,8,9,45,89], p = [0.1,0.0,0.0,0.3,0.3,0.3], size= (2,5))\nprint(q)\nprint(p)",
      "metadata": {
        "trusted": true
      },
      "execution_count": null,
      "outputs": [],
      "id": "27570294-7d2a-4476-a9e7-7c58f92e2220"
    },
    {
      "cell_type": "code",
      "source": "print(\"perutation\")\nper1 = np.array([12,56,23])\nrandom.shuffle(per1)\nprint(per1)\nrandom.permutation(per1)\nprint(per1)\nper2 = random.permutation(per1)\nprint(per2)",
      "metadata": {
        "trusted": true
      },
      "execution_count": null,
      "outputs": [],
      "id": "489bd718-b5ea-4b88-9484-8483e4725a35"
    },
    {
      "cell_type": "code",
      "source": "print(\"copy&view\")\ncpy = np.array([1,4,5,8,34])\nprint(cpy)\ncpy1= np.copy(cpy)\ncpy1 = cpy.copy()\nprint(cpy1)\ncpy[2] = 900\nprint(cpy1)\nprint(cpy)\nprint(\"view\")\nz = cpy.view()\nprint(cpy)\n",
      "metadata": {
        "trusted": true
      },
      "execution_count": null,
      "outputs": [],
      "id": "57264ec2-9034-4130-a98b-fe9349ed8be4"
    },
    {
      "cell_type": "code",
      "source": "print(\"data types\")\nprint(cpy.dtype)\nstring = np.array([\"we\",\"werty\",\"y\",\"poi\"], dtype = \"S\")\nprint(string.dtype)\n                ",
      "metadata": {
        "trusted": true
      },
      "execution_count": null,
      "outputs": [],
      "id": "59989075-c836-4807-972a-0d0f46965e8c"
    },
    {
      "cell_type": "code",
      "source": "print(\"itering\")\nfor strinf in string:\n    print(strinf)\n    \nprint(\"_________________________________________\")\nfor cp in cpy:\n    print(cp)\nprint(\"_________________________________________\")\nfor thir in third:\n    for thi in thir:\n        for  th in thi:\n            print(th)\nprint(\"_________________________________________\")\nfor s in sec:\n    for se in s:\n        print(se)\n    ",
      "metadata": {
        "trusted": true
      },
      "execution_count": null,
      "outputs": [],
      "id": "73e2f6ee-4246-44df-a259-18aa5b2785a2"
    },
    {
      "cell_type": "code",
      "source": "import numpy as np\nprint(np.zeros(3))\nprint(\"_________________________________________\")\nprint(np.ones(4))\nprint(\"_________________________________________\")\nprint(np.empty(5))\nprint(\"_________________________________________\")\nprint(np.arange(4))\nprint(\"_________________________________________\")\nprint(np.arange(0,20,3))\nprint(\"_________________________________________\")\nprint(np.linspace(0,10,num = 5))\nprint(\"_________________________________________\")\nprint(np.linspace(0,50,5))\nprint(\"_________________________________________\")\nprint(np.ones(3, dtype = np.int64))\nprint(\"_________________________________________\")\nprint(np.ones(3, dtype = np.float64))\nprint(\"_________________________________________\")\nprint(np.ones(3, dtype = np.complex64))\nprint(\"_________________________________________\")\nprint(np.dot(one_dim, one_dim))\nprint(\"_________________________________________\")\nprint(np.sort(sec, axis =1))\nprint(sec)",
      "metadata": {
        "trusted": true
      },
      "execution_count": null,
      "outputs": [],
      "id": "fbdb087a-fdf3-4383-b6a4-86f83c913f72"
    },
    {
      "cell_type": "code",
      "source": "import numpy as np\no = np.ones((3,4))\nprint(o*6)\nprint(\"________________________________\")\np = np.ones((3,4))\nprint(p)\nprint(\"________________________________\")\nprint(o+p)\nprint(\"________________________________\")\nprint(np.sum(p))\nprint(\"________________________________\")\nprint(o*o)\nprint(\"________________________________\")\nprint(p/p)",
      "metadata": {
        "trusted": true
      },
      "execution_count": null,
      "outputs": [],
      "id": "56ca7a17-538b-4890-9af8-d3c456d15049"
    },
    {
      "cell_type": "code",
      "source": "o.sum(axis=0)\nprint(\"________________________________\")\no.max()\nprint(\"________________________________\")\np.max(axis = 0)\nprint(\"________________________________\")\no.min()",
      "metadata": {
        "trusted": true
      },
      "execution_count": null,
      "outputs": [],
      "id": "ad26894e-586f-402c-b075-5b8d27634b3b"
    },
    {
      "cell_type": "code",
      "source": "data = np.array([[1,2], [3,7],[90,43]])\none = np.ones(2)\nprint(data + one)",
      "metadata": {
        "trusted": true
      },
      "execution_count": null,
      "outputs": [],
      "id": "d096dee7-d788-4280-bfe6-63fcc138c129"
    },
    {
      "cell_type": "code",
      "source": "rand = np.random.default_rng()\nprint(rand.random(3))\nprint(rand.integers(3, size = ((2,4))))",
      "metadata": {
        "trusted": true
      },
      "execution_count": null,
      "outputs": [],
      "id": "810bbb44-18f4-4a01-91ce-d8c1508a5f94"
    },
    {
      "cell_type": "code",
      "source": "print(np.flip(data))\nprint(np.flip(data[2]))",
      "metadata": {
        "trusted": true
      },
      "execution_count": null,
      "outputs": [],
      "id": "cab90587-d789-409f-b6f8-af1399d9c079"
    },
    {
      "cell_type": "code",
      "source": "data.transpose()\nprint(data.T)",
      "metadata": {
        "trusted": true
      },
      "execution_count": null,
      "outputs": [],
      "id": "5c5a936f-78de-4e8d-a1a5-eb1e9a0cd214"
    },
    {
      "cell_type": "code",
      "source": "a = np.array([78,90,56,24,34,24,90,78,56])\nprint(np.unique(a))\nprint(np.unique(a, return_index = True))\nprint(np.unique(a, return_counts = True))\n",
      "metadata": {
        "trusted": true
      },
      "execution_count": null,
      "outputs": [],
      "id": "5adced24-867c-41c6-9a2d-90a6543b70da"
    },
    {
      "cell_type": "code",
      "source": "import pandas as pd\nx = pd.DataFrame([1,2,3,4,7,9,99])\nprint(x)",
      "metadata": {
        "trusted": true
      },
      "execution_count": null,
      "outputs": [],
      "id": "744e8b75-5b5f-4723-80b5-19fe9d7cf59d"
    },
    {
      "cell_type": "code",
      "source": "import pandas as pd",
      "metadata": {
        "trusted": true
      },
      "execution_count": null,
      "outputs": [],
      "id": "1f5b7c66-4a4e-4ffe-ada4-6400c313100f"
    },
    {
      "cell_type": "code",
      "source": "car_ds = pd.read_csv(\"C:\\Users\\ELCOT\\Downloads\\archive\\Automobile.csv\")",
      "metadata": {
        "trusted": true
      },
      "execution_count": null,
      "outputs": [],
      "id": "d2f46635-dea7-4b7f-a5c2-d8fcea1029f0"
    },
    {
      "cell_type": "code",
      "source": "car_ds\n",
      "metadata": {
        "trusted": true
      },
      "execution_count": null,
      "outputs": [],
      "id": "f81f488c-f662-4a62-a8f2-12369a81b8e8"
    },
    {
      "cell_type": "code",
      "source": "import numpy as np\nimport pandas as pd\nfrom numpy.random import randn\nnp.random.seed(101)\n\ndf = pd.DataFrame(randn(5,4), columns = [\"q\",\"w\",\"e\",\"r\"], index = [\"a\",\"s\",\"d\",\"f\",\"g\"])\nprint(df)",
      "metadata": {
        "trusted": true
      },
      "execution_count": null,
      "outputs": [],
      "id": "85707cd4-59dd-4a23-86e3-3d119c4dc897"
    },
    {
      "cell_type": "code",
      "source": "df",
      "metadata": {
        "trusted": true
      },
      "execution_count": null,
      "outputs": [],
      "id": "b4b6c6ca-39a2-410c-a90c-aa75ba697773"
    },
    {
      "cell_type": "code",
      "source": "df['q'].dropna(axis = 0 )",
      "metadata": {
        "trusted": true
      },
      "execution_count": null,
      "outputs": [],
      "id": "0a9fcd7e-5f4c-4bb0-95d3-54e42d4dad3d"
    },
    {
      "cell_type": "code",
      "source": "df['q']",
      "metadata": {
        "trusted": true
      },
      "execution_count": null,
      "outputs": [],
      "id": "f4520039-6b62-42ea-b65a-c41123e64141"
    },
    {
      "cell_type": "code",
      "source": "df",
      "metadata": {
        "trusted": true
      },
      "execution_count": null,
      "outputs": [],
      "id": "4e9d037a-78c3-420d-9861-adb66fec3cfc"
    },
    {
      "cell_type": "code",
      "source": "df1 = df.dropna(axis = 0, inplace = True)",
      "metadata": {
        "trusted": true
      },
      "execution_count": null,
      "outputs": [],
      "id": "a29158a5-7604-471b-8dd2-c0759ce7c8b0"
    },
    {
      "cell_type": "code",
      "source": "df1",
      "metadata": {
        "trusted": true
      },
      "execution_count": null,
      "outputs": [],
      "id": "fff8cc2e-58ce-4bf1-8437-7c4f7f2b34f4"
    },
    {
      "cell_type": "code",
      "source": "df['q']",
      "metadata": {
        "trusted": true
      },
      "execution_count": null,
      "outputs": [],
      "id": "d46f2fce-00d6-4d40-bb71-51a1dfce9614"
    },
    {
      "cell_type": "code",
      "source": "df[['w','e']]",
      "metadata": {
        "trusted": true
      },
      "execution_count": null,
      "outputs": [],
      "id": "ff6660fc-d515-4ca1-a486-4e7109277118"
    },
    {
      "cell_type": "code",
      "source": "type(df['e'])",
      "metadata": {
        "trusted": true
      },
      "execution_count": null,
      "outputs": [],
      "id": "bf224aba-0ce2-4469-aa5a-a0de76b6f000"
    },
    {
      "cell_type": "code",
      "source": "type(df[['w','e']])",
      "metadata": {
        "trusted": true
      },
      "execution_count": null,
      "outputs": [],
      "id": "7a72e727-b156-460d-949a-fc95d7f3961f"
    },
    {
      "cell_type": "code",
      "source": "df['y'] = df['q'] / df['w']",
      "metadata": {
        "trusted": true
      },
      "execution_count": null,
      "outputs": [],
      "id": "da8bc155-b729-4b32-9087-d532835038a1"
    },
    {
      "cell_type": "code",
      "source": "df['y']",
      "metadata": {
        "trusted": true
      },
      "execution_count": null,
      "outputs": [],
      "id": "c8ac0e99-8c04-44fb-9185-037033d3acf8"
    },
    {
      "cell_type": "code",
      "source": "df.drop('y', axis = 1, inplace = True)",
      "metadata": {
        "trusted": true
      },
      "execution_count": null,
      "outputs": [],
      "id": "0c783f47-b1ed-4ffd-ab6f-df51b5cc3387"
    },
    {
      "cell_type": "code",
      "source": "df",
      "metadata": {
        "trusted": true
      },
      "execution_count": null,
      "outputs": [],
      "id": "b1d26379-e733-458f-a92b-d355ece11343"
    },
    {
      "cell_type": "code",
      "source": "df.drop(\"g\",axis = 0, inplace = True)",
      "metadata": {
        "trusted": true
      },
      "execution_count": null,
      "outputs": [],
      "id": "5cb64407-3d91-4955-839d-174cb9ed2d6e"
    },
    {
      "cell_type": "code",
      "source": "df",
      "metadata": {
        "trusted": true
      },
      "execution_count": null,
      "outputs": [],
      "id": "2992bcb7-9d20-48a2-86e1-4f576ddc2cce"
    },
    {
      "cell_type": "code",
      "source": "df.loc['a']",
      "metadata": {
        "trusted": true
      },
      "execution_count": null,
      "outputs": [],
      "id": "068b2be8-30b9-4539-b6bc-a6374616f97e"
    },
    {
      "cell_type": "code",
      "source": "df.loc['f']",
      "metadata": {
        "trusted": true
      },
      "execution_count": null,
      "outputs": [],
      "id": "73233b18-e431-4ea7-bc24-eb6868efcba3"
    },
    {
      "cell_type": "code",
      "source": "df.iloc[3]",
      "metadata": {
        "trusted": true
      },
      "execution_count": null,
      "outputs": [],
      "id": "4b471ebf-f4fa-483f-b538-426a9cafaf7c"
    },
    {
      "cell_type": "code",
      "source": "df.loc['f','e']",
      "metadata": {
        "trusted": true
      },
      "execution_count": null,
      "outputs": [],
      "id": "b1116296-e71c-43bc-ac76-4e57d413e39c"
    },
    {
      "cell_type": "code",
      "source": "df.iloc[2,3]",
      "metadata": {
        "trusted": true
      },
      "execution_count": null,
      "outputs": [],
      "id": "31230e60-fb53-4fb9-a555-a608e0d7c52d"
    },
    {
      "cell_type": "code",
      "source": "df.loc[['f','a'],['q','w']]",
      "metadata": {
        "trusted": true
      },
      "execution_count": null,
      "outputs": [],
      "id": "f7ca6d98-f961-409c-8aeb-b2de61989593"
    },
    {
      "cell_type": "code",
      "source": "df>=0",
      "metadata": {
        "trusted": true
      },
      "execution_count": null,
      "outputs": [],
      "id": "bd041564-35a4-49cb-b988-c879f624eb84"
    },
    {
      "cell_type": "code",
      "source": "df[df<0]",
      "metadata": {
        "trusted": true
      },
      "execution_count": null,
      "outputs": [],
      "id": "1ba46c1f-6f33-4e4b-a496-3a729257adec"
    },
    {
      "cell_type": "code",
      "source": "df[(df>0) & (df<0)]",
      "metadata": {
        "trusted": true
      },
      "execution_count": null,
      "outputs": [],
      "id": "5f7ca480-bf1f-4745-9a91-a73865daf0d2"
    },
    {
      "cell_type": "code",
      "source": "df[df['e']>0]",
      "metadata": {
        "trusted": true
      },
      "execution_count": null,
      "outputs": [],
      "id": "c62ae176-29c9-4f73-89ff-9e4fc0d006e9"
    },
    {
      "cell_type": "code",
      "source": "df[df['e']>0][['r','q']]",
      "metadata": {
        "trusted": true
      },
      "execution_count": null,
      "outputs": [],
      "id": "7d7efa5a-b871-485e-8573-94a339b68e83"
    },
    {
      "cell_type": "code",
      "source": "import numpy as np\nfrom numpy import random\none = np.array([22,41,31,33,55])\noned = np.array([2,4,5,6,1])\nsec = np.array([[1,2,34], [4,5,76]])\n",
      "metadata": {
        "trusted": true
      },
      "execution_count": null,
      "outputs": [],
      "id": "a98b0a22-79d9-428b-9e02-9a6579c20b4b"
    },
    {
      "cell_type": "code",
      "source": "data = np.random(5,4)\nprint(data)",
      "metadata": {
        "trusted": true
      },
      "execution_count": null,
      "outputs": [],
      "id": "0cdd2e13-9de4-43d3-9fed-a50d9f0ab62b"
    },
    {
      "cell_type": "code",
      "source": "import numpy as np\nimport pandas as pd",
      "metadata": {
        "trusted": true
      },
      "execution_count": null,
      "outputs": [],
      "id": "65d4defe-e6d0-45ba-b147-94f799bc2916"
    },
    {
      "cell_type": "code",
      "source": "\ndata ={\"name\" : [\"julie\", \"lisa\",\"joice\",\"rani\", \"john\"],\n       \"age\" : [20,25,23,45,50],\n       \"mark\" : [np.nan, 234,54,np.nan,np.nan],\n       \"duty\" : [\"wipro\", \"teacher\", np.nan, \"vip\", \"vip\"]\n      }\ndf = pd.DataFrame(data)\nprint(df)",
      "metadata": {
        "trusted": true
      },
      "execution_count": null,
      "outputs": [],
      "id": "7907b9b5-9d8c-4156-8237-bf4ce1594dc5"
    },
    {
      "cell_type": "code",
      "source": "df.dropna(how= \"all\")",
      "metadata": {
        "trusted": true
      },
      "execution_count": null,
      "outputs": [],
      "id": "29313c8a-8470-4b43-86fe-039dc31a837c"
    },
    {
      "cell_type": "code",
      "source": "df.dropna(how = \"all\")",
      "metadata": {
        "trusted": true
      },
      "execution_count": null,
      "outputs": [],
      "id": "db7d2be8-cffd-404b-9bd7-14b0f1f5c986"
    },
    {
      "cell_type": "code",
      "source": "df['loc'] = df['loc'].fillna(\"S\")",
      "metadata": {
        "trusted": true
      },
      "execution_count": null,
      "outputs": [],
      "id": "26bb007d-914b-43bb-8391-778aa54b5114"
    },
    {
      "cell_type": "code",
      "source": "df['loc'] = [\"japan\", \"korea\", \"italy\", \"usa\", \"india\"]\ndf.dropna(axis = 1, how = \"all\")\ndf",
      "metadata": {
        "trusted": true
      },
      "execution_count": null,
      "outputs": [],
      "id": "c61dbc73-d3e5-4484-86e3-fa7c151ae425"
    },
    {
      "cell_type": "code",
      "source": "df.dropna(thresh = 0)",
      "metadata": {
        "trusted": true
      },
      "execution_count": null,
      "outputs": [],
      "id": "29b4e05c-a11e-4443-a077-5fb32a280606"
    },
    {
      "cell_type": "code",
      "source": "df.fillna().mean()",
      "metadata": {
        "trusted": true
      },
      "execution_count": null,
      "outputs": [],
      "id": "1b97f442-eafd-475e-bbad-fa9cafc2ab4e"
    },
    {
      "cell_type": "code",
      "source": "import seaborn as sns\n%matplotlib inline",
      "metadata": {
        "trusted": true
      },
      "execution_count": null,
      "outputs": [],
      "id": "7a63b0ae-9aa6-431c-af8a-d883c76e70ff"
    },
    {
      "cell_type": "code",
      "source": "",
      "metadata": {},
      "execution_count": null,
      "outputs": [],
      "id": "0ca73fd9-6fc5-4f49-b59a-0498496cc1b6"
    },
    {
      "cell_type": "code",
      "source": "",
      "metadata": {},
      "execution_count": null,
      "outputs": [],
      "id": "97520356-a5db-45f4-bd48-6cf9c5f1d71b"
    },
    {
      "cell_type": "code",
      "source": "df = sns.load_dataset(\"tips\")",
      "metadata": {
        "trusted": true
      },
      "execution_count": null,
      "outputs": [],
      "id": "fcc439f8-021c-4d90-b744-d3785fee0687"
    },
    {
      "cell_type": "code",
      "source": "df",
      "metadata": {
        "trusted": true
      },
      "execution_count": null,
      "outputs": [],
      "id": "ff76b70d-231f-4508-addb-abee446206ab"
    },
    {
      "cell_type": "code",
      "source": "pip install seaborn\n",
      "metadata": {
        "trusted": true
      },
      "execution_count": null,
      "outputs": [],
      "id": "72c90bfb-a7d1-4bf7-8722-65ed20d629cf"
    },
    {
      "cell_type": "code",
      "source": "import pandas as pd",
      "metadata": {
        "trusted": true
      },
      "execution_count": null,
      "outputs": [],
      "id": "39da1b5f-3314-4099-9589-7979e96da137"
    },
    {
      "cell_type": "code",
      "source": "data = { 'name' : [\"jul\",\"lisa\",\"joice\",\"rani\"],\n        \"age\" : [22,23,24,25],\n        \"job\" : [\"teacher\",\"it\",\"vip\",\"it\"],\n        \"address\" : [\"tn\",\"ch\",\"usa\",\"japan\"]\n       }\ndf = pd.DataFrame(data = data)\n#print(df.loc[\"lisa\"])\nprint(df)",
      "metadata": {
        "trusted": true
      },
      "execution_count": null,
      "outputs": [],
      "id": "df64ff2f-fabc-48be-9a55-5046a5beece0"
    },
    {
      "cell_type": "code",
      "source": "for i, j in df.iterrows():\n    print(i, j)\n    print()",
      "metadata": {
        "trusted": true
      },
      "execution_count": null,
      "outputs": [],
      "id": "55e8fd3d-8ec3-4f62-8aaf-17bea7aa675e"
    },
    {
      "cell_type": "code",
      "source": "clo = list(df)\nfor i in clo:\n    print(i)",
      "metadata": {
        "trusted": true
      },
      "execution_count": null,
      "outputs": [],
      "id": "ca494194-bd93-45ab-bfde-727c06b307e4"
    },
    {
      "cell_type": "code",
      "source": "clo = list(df)\nfor i in clo:\n    print(df[i][2])",
      "metadata": {
        "trusted": true
      },
      "execution_count": null,
      "outputs": [],
      "id": "cd40c7a3-1307-49e4-8c6a-4e24e1afe15c"
    },
    {
      "cell_type": "code",
      "source": "import pandas as pd",
      "metadata": {
        "trusted": true
      },
      "execution_count": null,
      "outputs": [],
      "id": "a1174b31-3849-42ff-b4ea-46d5f886fab1"
    },
    {
      "cell_type": "code",
      "source": "import matplotlib.pyplot as plt\n",
      "metadata": {
        "trusted": true
      },
      "execution_count": null,
      "outputs": [],
      "id": "6cfdac93-94aa-4d79-baed-3b136e20cc05"
    },
    {
      "cell_type": "code",
      "source": "import pandas as pd",
      "metadata": {
        "trusted": true
      },
      "execution_count": null,
      "outputs": [],
      "id": "c6aa3dd1-b16b-4671-b498-f8c436b6d318"
    },
    {
      "cell_type": "code",
      "source": "pf = [\"japan\",\"korea\",\"usa\",\"australia\"]\n\nseries = pd.Series(data= pf, index = [\"city1\",\"city2\",\"city3\",\"city4\"])\nseries",
      "metadata": {
        "trusted": true
      },
      "execution_count": null,
      "outputs": [],
      "id": "ecd78fa4-1a6b-47bd-9ded-ab3e42df5331"
    },
    {
      "cell_type": "code",
      "source": "print(series)",
      "metadata": {
        "trusted": true
      },
      "execution_count": null,
      "outputs": [],
      "id": "a25c943c-1852-45a2-b84d-9ba885b53aa2"
    },
    {
      "cell_type": "code",
      "source": "import numpy as np\nimport pandas as pd\nimport seaborn as sns\nimport matplotlib.pyplot as plt",
      "metadata": {
        "trusted": true
      },
      "execution_count": null,
      "outputs": [],
      "id": "cde55480-a772-4705-8946-8f5c62651541"
    },
    {
      "cell_type": "code",
      "source": "mylist = [23,24,25,21,26,27]\nseris = pd.Series(data = mylist, index = [1,2,3,4,5,6])",
      "metadata": {
        "trusted": true
      },
      "execution_count": null,
      "outputs": [],
      "id": "992c48fc-3a40-4b50-918c-3c6166d2490b"
    },
    {
      "cell_type": "code",
      "source": "",
      "metadata": {},
      "execution_count": null,
      "outputs": [],
      "id": "46ee3f08-2335-412e-9006-ed56c698b6b7"
    },
    {
      "cell_type": "code",
      "source": "print(seris)",
      "metadata": {
        "trusted": true
      },
      "execution_count": null,
      "outputs": [],
      "id": "428eee48-93e4-4389-bd05-04537efbece0"
    },
    {
      "cell_type": "code",
      "source": "pd.Series([sum, print, len])",
      "metadata": {
        "trusted": true
      },
      "execution_count": null,
      "outputs": [],
      "id": "ebb40dce-b366-4d2e-ac71-542c529889b4"
    },
    {
      "cell_type": "code",
      "source": "seris[0]\nseris[0:2]\nseris[[0,2]]",
      "metadata": {
        "trusted": true
      },
      "execution_count": null,
      "outputs": [],
      "id": "bee70bba-ce10-4829-8af8-94a2f43d5432"
    }
  ]
}